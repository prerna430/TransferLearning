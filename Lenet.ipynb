{
  "nbformat": 4,
  "nbformat_minor": 0,
  "metadata": {
    "kernelspec": {
      "display_name": "Python 3",
      "language": "python",
      "name": "python3"
    },
    "language_info": {
      "codemirror_mode": {
        "name": "ipython",
        "version": 3
      },
      "file_extension": ".py",
      "mimetype": "text/x-python",
      "name": "python",
      "nbconvert_exporter": "python",
      "pygments_lexer": "ipython3",
      "version": "3.7.4"
    },
    "colab": {
      "name": "CNN And Transfer LEarning.ipynb",
      "provenance": [],
      "collapsed_sections": [],
      "toc_visible": true
    },
    "accelerator": "GPU"
  },
  "cells": [
    {
      "cell_type": "markdown",
      "metadata": {
        "id": "oS4lUQh6Xaib"
      },
      "source": [
        "## Creating CNN Using Scratch And Transfer Learning"
      ]
    },
    {
      "cell_type": "markdown",
      "metadata": {
        "id": "jhuMbNPDXaie"
      },
      "source": [
        "Please download the dataset from the below url"
      ]
    },
    {
      "cell_type": "code",
      "metadata": {
        "id": "mCiStzOTXaif"
      },
      "source": [
        "# import the libraries as shown below\n",
        "\n",
        "from tensorflow.keras.layers import Input, Lambda, Dense, Flatten,Conv2D\n",
        "from tensorflow.keras.models import Model\n",
        "from tensorflow.keras.applications.vgg19 import VGG19\n",
        "from tensorflow.keras.applications.resnet50 import preprocess_input\n",
        "from tensorflow.keras.preprocessing import image\n",
        "from tensorflow.keras.preprocessing.image import ImageDataGenerator,load_img\n",
        "from tensorflow.keras.models import Sequential\n",
        "import numpy as np\n",
        "from glob import glob\n",
        "import matplotlib.pyplot as plt"
      ],
      "execution_count": 1,
      "outputs": []
    },
    {
      "cell_type": "code",
      "metadata": {
        "id": "2XSGPA_iXaig"
      },
      "source": [
        "# re-size all the images to this\n",
        "IMAGE_SIZE = [224, 224]\n",
        "\n",
        "train_path = '/content/drive/MyDrive/Deep Learning/CatDog/training_set'\n",
        "valid_path = '/content/drive/MyDrive/Deep Learning/CatDog/test_set'"
      ],
      "execution_count": 2,
      "outputs": []
    },
    {
      "cell_type": "code",
      "metadata": {
        "id": "cxdbEqDoXaij"
      },
      "source": [
        "from tensorflow.keras.layers import MaxPooling2D\r\n",
        "import keras\r\n",
        "from keras.models import Sequential\r\n",
        "from keras.layers import Dense, Activation, Dropout, Flatten,Conv2D, MaxPooling2D\r\n",
        "from keras.layers.normalization import BatchNormalization\r\n",
        "import numpy as np"
      ],
      "execution_count": 3,
      "outputs": []
    },
    {
      "cell_type": "code",
      "metadata": {
        "colab": {
          "base_uri": "https://localhost:8080/"
        },
        "id": "COb5pqdhXaij",
        "outputId": "ebe256ef-c146-4fbd-de67-90b2b159ad97"
      },
      "source": [
        "\n",
        "\n",
        "model = Sequential()\n",
        "# Select 6 feature convolution kernels with a size of 5 * 5 (without offset), and get 66 feature maps. The size of each feature map is 32−5 + 1 = 2832−5 + 1 = 28.\n",
        "# That is, the number of neurons has been reduced from 10241024 to 28 ∗ 28 = 784 28 ∗ 28 = 784.\n",
        "# Parameters between input layer and C1 layer: 6 ∗ (5 ∗ 5 + 1)\n",
        "model.add(Conv2D(filters=16,kernel_size=2,padding=\"same\",activation=\"relu\",input_shape=(224,224,3)))\n",
        "# The input of this layer is the output of the first layer, which is a 28 * 28 * 6 node matrix.\n",
        "# The size of the filter used in this layer is 2 * 2, and the step length and width are both 2, so the output matrix size of this layer is 14 * 14 * 6.\n",
        "model.add(MaxPooling2D(pool_size=(2, 2)))\n",
        "# The input matrix size of this layer is 14 * 14 * 6, the filter size used is 5 * 5, and the depth is 16. This layer does not use all 0 padding, and the step size is 1.\n",
        "# The output matrix size of this layer is 10 * 10 * 16. This layer has 5 * 5 * 6 * 16 + 16 = 2416 parameters\n",
        "model.add(Conv2D(16, kernel_size=(5, 5), activation='relu'))\n",
        "# The input matrix size of this layer is 10 * 10 * 16. The size of the filter used in this layer is 2 * 2, and the length and width steps are both 2, so the output matrix size of this layer is 5 * 5 * 16.\n",
        "model.add(MaxPooling2D(pool_size=(2, 2)))\n",
        "# The input matrix size of this layer is 5 * 5 * 16. This layer is called a convolution layer in the LeNet-5 paper, but because the size of the filter is 5 * 5, #\n",
        "# So it is not different from the fully connected layer. If the nodes in the 5 * 5 * 16 matrix are pulled into a vector, then this layer is the same as the fully connected layer.\n",
        "# The number of output nodes in this layer is 120, with a total of 5 * 5 * 16 * 120 + 120 = 48120 parameters.\n",
        "model.add(Flatten())\n",
        "model.add(Dense(120, activation='relu'))\n",
        "# The number of input nodes in this layer is 120 and the number of output nodes is 84. The total parameter is 120 * 84 + 84 = 10164 (w + b)\n",
        "model.add(Dense(84, activation='relu'))\n",
        "# The number of input nodes in this layer is 84 and the number of output nodes is 10. The total parameter is 84 * 10 + 10 = 850\n",
        "model.add(Dense(2, activation='softmax'))\n",
        "\n",
        "model.summary()"
      ],
      "execution_count": 39,
      "outputs": [
        {
          "output_type": "stream",
          "text": [
            "Model: \"sequential_10\"\n",
            "_________________________________________________________________\n",
            "Layer (type)                 Output Shape              Param #   \n",
            "=================================================================\n",
            "conv2d_20 (Conv2D)           (None, 224, 224, 16)      208       \n",
            "_________________________________________________________________\n",
            "max_pooling2d_19 (MaxPooling (None, 112, 112, 16)      0         \n",
            "_________________________________________________________________\n",
            "conv2d_21 (Conv2D)           (None, 108, 108, 16)      6416      \n",
            "_________________________________________________________________\n",
            "max_pooling2d_20 (MaxPooling (None, 54, 54, 16)        0         \n",
            "_________________________________________________________________\n",
            "flatten_9 (Flatten)          (None, 46656)             0         \n",
            "_________________________________________________________________\n",
            "dense_26 (Dense)             (None, 120)               5598840   \n",
            "_________________________________________________________________\n",
            "dense_27 (Dense)             (None, 84)                10164     \n",
            "_________________________________________________________________\n",
            "dense_28 (Dense)             (None, 2)                 170       \n",
            "=================================================================\n",
            "Total params: 5,615,798\n",
            "Trainable params: 5,615,798\n",
            "Non-trainable params: 0\n",
            "_________________________________________________________________\n"
          ],
          "name": "stdout"
        }
      ]
    },
    {
      "cell_type": "code",
      "metadata": {
        "id": "GxvdyvJCXaik"
      },
      "source": [
        "# tell the model what cost and optimization method to use\n",
        "model.compile(\n",
        "  loss='categorical_crossentropy',\n",
        "  optimizer='adam',\n",
        "  metrics=['accuracy']\n",
        ")"
      ],
      "execution_count": 40,
      "outputs": []
    },
    {
      "cell_type": "code",
      "metadata": {
        "id": "KrRTjcorXaik"
      },
      "source": [
        "from tensorflow.keras.preprocessing.image import ImageDataGenerator\n",
        "\n",
        "train_datagen = ImageDataGenerator(rescale = 1./255,\n",
        "                                   shear_range = 0.2,\n",
        "                                   zoom_range = 0.2,\n",
        "                                   horizontal_flip = True)\n",
        "\n",
        "test_datagen = ImageDataGenerator(rescale = 1./255)"
      ],
      "execution_count": 41,
      "outputs": []
    },
    {
      "cell_type": "code",
      "metadata": {
        "colab": {
          "base_uri": "https://localhost:8080/"
        },
        "id": "hseeqNl3Xaik",
        "outputId": "682e3ca4-78a9-44aa-ab54-504d08f01c01"
      },
      "source": [
        "\n",
        "training_set = train_datagen.flow_from_directory('/content/drive/MyDrive/Deep Learning/CatDog/training_set',\n",
        "                                                 target_size = (224, 224),\n",
        "                                                 batch_size = 32,\n",
        "                                                 class_mode = 'categorical')"
      ],
      "execution_count": 42,
      "outputs": [
        {
          "output_type": "stream",
          "text": [
            "Found 5747 images belonging to 2 classes.\n"
          ],
          "name": "stdout"
        }
      ]
    },
    {
      "cell_type": "code",
      "metadata": {
        "colab": {
          "base_uri": "https://localhost:8080/"
        },
        "id": "EhbupPSYXail",
        "outputId": "1c24b550-45ab-4ddb-ef8a-f797e81c2f59"
      },
      "source": [
        "training_set"
      ],
      "execution_count": 43,
      "outputs": [
        {
          "output_type": "execute_result",
          "data": {
            "text/plain": [
              "<tensorflow.python.keras.preprocessing.image.DirectoryIterator at 0x7fc13e489cc0>"
            ]
          },
          "metadata": {
            "tags": []
          },
          "execution_count": 43
        }
      ]
    },
    {
      "cell_type": "code",
      "metadata": {
        "colab": {
          "base_uri": "https://localhost:8080/"
        },
        "id": "zUhnQyrPXail",
        "outputId": "ed0a3414-aec5-4951-8c16-9d777fbdce17"
      },
      "source": [
        "test_set = test_datagen.flow_from_directory('/content/drive/MyDrive/Deep Learning/CatDog/test_set',\n",
        "                                            target_size = (224, 224),\n",
        "                                            batch_size = 32,\n",
        "                                            class_mode = 'categorical')"
      ],
      "execution_count": 44,
      "outputs": [
        {
          "output_type": "stream",
          "text": [
            "Found 2023 images belonging to 2 classes.\n"
          ],
          "name": "stdout"
        }
      ]
    },
    {
      "cell_type": "code",
      "metadata": {
        "scrolled": true,
        "colab": {
          "base_uri": "https://localhost:8080/"
        },
        "id": "TSV9UMBrXail",
        "outputId": "653416de-ec0b-4ab6-a2ef-06f13e268c16"
      },
      "source": [
        "\n",
        "# fit the model\n",
        "# Run the cell. It will take some time to execute\n",
        "r = model.fit_generator(\n",
        "  training_set,\n",
        "  validation_data=test_set,\n",
        "  epochs=20,\n",
        "  steps_per_epoch=len(training_set),\n",
        "  validation_steps=len(test_set)\n",
        ")"
      ],
      "execution_count": 46,
      "outputs": [
        {
          "output_type": "stream",
          "text": [
            "/usr/local/lib/python3.6/dist-packages/tensorflow/python/keras/engine/training.py:1844: UserWarning: `Model.fit_generator` is deprecated and will be removed in a future version. Please use `Model.fit`, which supports generators.\n",
            "  warnings.warn('`Model.fit_generator` is deprecated and '\n"
          ],
          "name": "stderr"
        },
        {
          "output_type": "stream",
          "text": [
            "Epoch 1/20\n",
            "180/180 [==============================] - 78s 435ms/step - loss: 0.4608 - accuracy: 0.7740 - val_loss: 0.7024 - val_accuracy: 0.6565\n",
            "Epoch 2/20\n",
            "180/180 [==============================] - 79s 438ms/step - loss: 0.4374 - accuracy: 0.7952 - val_loss: 0.5980 - val_accuracy: 0.7182\n",
            "Epoch 3/20\n",
            "180/180 [==============================] - 79s 441ms/step - loss: 0.4258 - accuracy: 0.7964 - val_loss: 0.5730 - val_accuracy: 0.7029\n",
            "Epoch 4/20\n",
            "180/180 [==============================] - 79s 437ms/step - loss: 0.4098 - accuracy: 0.8121 - val_loss: 0.5977 - val_accuracy: 0.7286\n",
            "Epoch 5/20\n",
            "180/180 [==============================] - 79s 439ms/step - loss: 0.3961 - accuracy: 0.8182 - val_loss: 0.6291 - val_accuracy: 0.6906\n",
            "Epoch 6/20\n",
            "180/180 [==============================] - 79s 439ms/step - loss: 0.3796 - accuracy: 0.8256 - val_loss: 0.5443 - val_accuracy: 0.7350\n",
            "Epoch 7/20\n",
            "180/180 [==============================] - 80s 442ms/step - loss: 0.3654 - accuracy: 0.8363 - val_loss: 0.6416 - val_accuracy: 0.7281\n",
            "Epoch 8/20\n",
            "180/180 [==============================] - 79s 441ms/step - loss: 0.3444 - accuracy: 0.8471 - val_loss: 0.5994 - val_accuracy: 0.7266\n",
            "Epoch 9/20\n",
            "180/180 [==============================] - 80s 445ms/step - loss: 0.3360 - accuracy: 0.8504 - val_loss: 0.6811 - val_accuracy: 0.7168\n",
            "Epoch 10/20\n",
            "180/180 [==============================] - 80s 444ms/step - loss: 0.3318 - accuracy: 0.8568 - val_loss: 0.6002 - val_accuracy: 0.7380\n",
            "Epoch 11/20\n",
            "180/180 [==============================] - 81s 448ms/step - loss: 0.3200 - accuracy: 0.8625 - val_loss: 0.6063 - val_accuracy: 0.7355\n",
            "Epoch 12/20\n",
            "180/180 [==============================] - 80s 444ms/step - loss: 0.2995 - accuracy: 0.8738 - val_loss: 0.6494 - val_accuracy: 0.7276\n",
            "Epoch 13/20\n",
            "180/180 [==============================] - 80s 445ms/step - loss: 0.2903 - accuracy: 0.8728 - val_loss: 0.6037 - val_accuracy: 0.7484\n",
            "Epoch 14/20\n",
            "180/180 [==============================] - 81s 449ms/step - loss: 0.2877 - accuracy: 0.8770 - val_loss: 0.7881 - val_accuracy: 0.7138\n",
            "Epoch 15/20\n",
            "180/180 [==============================] - 80s 447ms/step - loss: 0.2879 - accuracy: 0.8751 - val_loss: 0.7235 - val_accuracy: 0.7009\n",
            "Epoch 16/20\n",
            "180/180 [==============================] - 80s 447ms/step - loss: 0.2555 - accuracy: 0.8942 - val_loss: 0.6898 - val_accuracy: 0.7395\n",
            "Epoch 17/20\n",
            "180/180 [==============================] - 81s 448ms/step - loss: 0.2446 - accuracy: 0.9027 - val_loss: 0.7688 - val_accuracy: 0.7341\n",
            "Epoch 18/20\n",
            "180/180 [==============================] - 81s 450ms/step - loss: 0.2365 - accuracy: 0.9055 - val_loss: 0.7854 - val_accuracy: 0.7306\n",
            "Epoch 19/20\n",
            "180/180 [==============================] - 81s 448ms/step - loss: 0.2346 - accuracy: 0.9039 - val_loss: 0.6792 - val_accuracy: 0.7568\n",
            "Epoch 20/20\n",
            "180/180 [==============================] - 81s 450ms/step - loss: 0.2053 - accuracy: 0.9187 - val_loss: 0.7547 - val_accuracy: 0.7514\n"
          ],
          "name": "stdout"
        }
      ]
    },
    {
      "cell_type": "code",
      "metadata": {
        "id": "WnvQgEcpXaim"
      },
      "source": [
        ""
      ],
      "execution_count": null,
      "outputs": []
    },
    {
      "cell_type": "code",
      "metadata": {
        "colab": {
          "base_uri": "https://localhost:8080/",
          "height": 530
        },
        "id": "jzCcNnnKXaim",
        "outputId": "a98c7a88-654b-43f8-9cc8-182501b7b5db"
      },
      "source": [
        "# plot the loss\n",
        "plt.plot(r.history['loss'], label='train loss')\n",
        "plt.plot(r.history['val_loss'], label='val loss')\n",
        "plt.legend()\n",
        "plt.show()\n",
        "plt.savefig('LossVal_loss')\n",
        "\n",
        "# plot the accuracy\n",
        "plt.plot(r.history['accuracy'], label='train acc')\n",
        "plt.plot(r.history['val_accuracy'], label='val acc')\n",
        "plt.legend()\n",
        "plt.show()\n",
        "plt.savefig('AccVal_acc')"
      ],
      "execution_count": 47,
      "outputs": [
        {
          "output_type": "display_data",
          "data": {
            "image/png": "[encoded data removed]",
            "text/plain": [
              "<Figure size 432x288 with 1 Axes>"
            ]
          },
          "metadata": {
            "tags": [],
            "needs_background": "light"
          }
        },
        {
          "output_type": "display_data",
          "data": {
            "image/png": "[encoded data removed]",
            "text/plain": [
              "<Figure size 432x288 with 1 Axes>"
            ]
          },
          "metadata": {
            "tags": [],
            "needs_background": "light"
          }
        },
        {
          "output_type": "display_data",
          "data": {
            "text/plain": [
              "<Figure size 432x288 with 0 Axes>"
            ]
          },
          "metadata": {
            "tags": []
          }
        }
      ]
    },
    {
      "cell_type": "code",
      "metadata": {
        "id": "83mowsrgXaim"
      },
      "source": [
        "# save it as a h5 file\n",
        "\n",
        "\n",
        "from tensorflow.keras.models import load_model\n",
        "\n",
        "model.save('model_vgg19.h5')"
      ],
      "execution_count": 48,
      "outputs": []
    },
    {
      "cell_type": "code",
      "metadata": {
        "id": "QDI_1FAiXaim"
      },
      "source": [
        ""
      ],
      "execution_count": 48,
      "outputs": []
    },
    {
      "cell_type": "code",
      "metadata": {
        "id": "4GBPUv44Xain"
      },
      "source": [
        "\n",
        "y_pred = model.predict(test_set)\n"
      ],
      "execution_count": 49,
      "outputs": []
    },
    {
      "cell_type": "code",
      "metadata": {
        "colab": {
          "base_uri": "https://localhost:8080/"
        },
        "id": "lnMbTuy4Xain",
        "outputId": "e6fcb3c8-6aed-4c4a-ea77-985087a6fb83"
      },
      "source": [
        "y_pred"
      ],
      "execution_count": 50,
      "outputs": [
        {
          "output_type": "execute_result",
          "data": {
            "text/plain": [
              "array([[4.0782730e-08, 1.0000000e+00],\n",
              "       [7.6554835e-01, 2.3445164e-01],\n",
              "       [6.4486900e-05, 9.9993551e-01],\n",
              "       ...,\n",
              "       [9.5014620e-01, 4.9853809e-02],\n",
              "       [2.5952756e-01, 7.4047244e-01],\n",
              "       [9.9991632e-01, 8.3629180e-05]], dtype=float32)"
            ]
          },
          "metadata": {
            "tags": []
          },
          "execution_count": 50
        }
      ]
    },
    {
      "cell_type": "code",
      "metadata": {
        "id": "D74s3DRhXain"
      },
      "source": [
        "import numpy as np\n",
        "y_pred = np.argmax(y_pred, axis=1)"
      ],
      "execution_count": 51,
      "outputs": []
    },
    {
      "cell_type": "code",
      "metadata": {
        "colab": {
          "base_uri": "https://localhost:8080/"
        },
        "id": "4_YgyL0fXain",
        "outputId": "a187c170-affb-47d1-8cb8-5af9e746f9e3"
      },
      "source": [
        "y_pred"
      ],
      "execution_count": 52,
      "outputs": [
        {
          "output_type": "execute_result",
          "data": {
            "text/plain": [
              "array([1, 0, 1, ..., 0, 1, 0])"
            ]
          },
          "metadata": {
            "tags": []
          },
          "execution_count": 52
        }
      ]
    },
    {
      "cell_type": "code",
      "metadata": {
        "id": "jYi9osU3Xaio"
      },
      "source": [
        ""
      ],
      "execution_count": null,
      "outputs": []
    },
    {
      "cell_type": "code",
      "metadata": {
        "id": "b9-ZefDyXaio"
      },
      "source": [
        "from tensorflow.keras.models import load_model\n",
        "from tensorflow.keras.preprocessing import image"
      ],
      "execution_count": 53,
      "outputs": []
    },
    {
      "cell_type": "code",
      "metadata": {
        "id": "IgTeDBJfXaio"
      },
      "source": [
        "model=load_model('model_vgg19.h5')"
      ],
      "execution_count": 54,
      "outputs": []
    },
    {
      "cell_type": "code",
      "metadata": {
        "id": "PnRZ_0w7Xaio"
      },
      "source": [
        ""
      ],
      "execution_count": null,
      "outputs": []
    },
    {
      "cell_type": "code",
      "metadata": {
        "id": "CKfJLUjgXaio"
      },
      "source": [
        "img=image.load_img('/content/drive/MyDrive/Deep Learning/CatDog/test_set/dogs/dog.4002.jpg',target_size=(224,224))\n",
        "\n"
      ],
      "execution_count": 55,
      "outputs": []
    },
    {
      "cell_type": "code",
      "metadata": {
        "colab": {
          "base_uri": "https://localhost:8080/"
        },
        "id": "sTZvqfECXaip",
        "outputId": "e9ce5c09-0959-4d09-a901-1402c428dfb4"
      },
      "source": [
        "x=image.img_to_array(img)\n",
        "x"
      ],
      "execution_count": 56,
      "outputs": [
        {
          "output_type": "execute_result",
          "data": {
            "text/plain": [
              "array([[[ 25.,  24.,  22.],\n",
              "        [ 25.,  24.,  22.],\n",
              "        [ 24.,  23.,  21.],\n",
              "        ...,\n",
              "        [ 38.,  28.,  27.],\n",
              "        [ 36.,  26.,  25.],\n",
              "        [ 33.,  28.,  25.]],\n",
              "\n",
              "       [[ 26.,  25.,  23.],\n",
              "        [ 26.,  25.,  23.],\n",
              "        [ 25.,  24.,  22.],\n",
              "        ...,\n",
              "        [ 38.,  28.,  27.],\n",
              "        [ 36.,  26.,  25.],\n",
              "        [ 34.,  29.,  26.]],\n",
              "\n",
              "       [[ 27.,  26.,  24.],\n",
              "        [ 27.,  26.,  24.],\n",
              "        [ 26.,  25.,  23.],\n",
              "        ...,\n",
              "        [ 38.,  28.,  27.],\n",
              "        [ 34.,  24.,  23.],\n",
              "        [ 32.,  27.,  24.]],\n",
              "\n",
              "       ...,\n",
              "\n",
              "       [[ 89.,  58.,  63.],\n",
              "        [ 88.,  57.,  62.],\n",
              "        [ 99.,  70.,  75.],\n",
              "        ...,\n",
              "        [ 30.,  25.,  22.],\n",
              "        [ 31.,  26.,  23.],\n",
              "        [ 31.,  26.,  23.]],\n",
              "\n",
              "       [[ 93.,  61.,  64.],\n",
              "        [101.,  70.,  75.],\n",
              "        [126.,  95., 101.],\n",
              "        ...,\n",
              "        [ 33.,  25.,  23.],\n",
              "        [ 33.,  25.,  23.],\n",
              "        [ 33.,  25.,  23.]],\n",
              "\n",
              "       [[148., 116., 119.],\n",
              "        [116.,  85.,  90.],\n",
              "        [144., 113., 119.],\n",
              "        ...,\n",
              "        [ 33.,  25.,  23.],\n",
              "        [ 33.,  25.,  23.],\n",
              "        [ 33.,  25.,  23.]]], dtype=float32)"
            ]
          },
          "metadata": {
            "tags": []
          },
          "execution_count": 56
        }
      ]
    },
    {
      "cell_type": "code",
      "metadata": {
        "colab": {
          "base_uri": "https://localhost:8080/"
        },
        "id": "Ulj8lPMTXaip",
        "outputId": "a4c57374-acef-42e4-a212-5bc5ea87ce93"
      },
      "source": [
        "x.shape"
      ],
      "execution_count": 57,
      "outputs": [
        {
          "output_type": "execute_result",
          "data": {
            "text/plain": [
              "(224, 224, 3)"
            ]
          },
          "metadata": {
            "tags": []
          },
          "execution_count": 57
        }
      ]
    },
    {
      "cell_type": "code",
      "metadata": {
        "id": "f30evmAjXaip"
      },
      "source": [
        "x=x/255"
      ],
      "execution_count": 58,
      "outputs": []
    },
    {
      "cell_type": "code",
      "metadata": {
        "colab": {
          "base_uri": "https://localhost:8080/"
        },
        "id": "EZWeD7ToXaip",
        "outputId": "075c58d2-d23f-4042-fad1-9700622ce8c9"
      },
      "source": [
        "x=np.expand_dims(x,axis=0)\n",
        "img_data=preprocess_input(x)\n",
        "img_data.shape"
      ],
      "execution_count": 59,
      "outputs": [
        {
          "output_type": "execute_result",
          "data": {
            "text/plain": [
              "(1, 224, 224, 3)"
            ]
          },
          "metadata": {
            "tags": []
          },
          "execution_count": 59
        }
      ]
    },
    {
      "cell_type": "code",
      "metadata": {
        "colab": {
          "base_uri": "https://localhost:8080/"
        },
        "id": "XdXVl13mXaiq",
        "outputId": "6c5c3814-e197-4018-8baf-7e81bfe5ad73"
      },
      "source": [
        "model.predict(img_data)"
      ],
      "execution_count": 60,
      "outputs": [
        {
          "output_type": "execute_result",
          "data": {
            "text/plain": [
              "array([[0., 1.]], dtype=float32)"
            ]
          },
          "metadata": {
            "tags": []
          },
          "execution_count": 60
        }
      ]
    },
    {
      "cell_type": "code",
      "metadata": {
        "id": "HBypnFf8Xaiq"
      },
      "source": [
        "a=np.argmax(model.predict(img_data), axis=1)"
      ],
      "execution_count": 61,
      "outputs": []
    },
    {
      "cell_type": "code",
      "metadata": {
        "colab": {
          "base_uri": "https://localhost:8080/"
        },
        "id": "Vb0UM3zeXaiq",
        "outputId": "df298183-d708-4e09-fc35-309b9dcfa7f3"
      },
      "source": [
        "if(a[0]<=0.5):\n",
        "    print(\"Cat\")\n",
        "else:\n",
        "    print(\"Dog\")"
      ],
      "execution_count": 66,
      "outputs": [
        {
          "output_type": "stream",
          "text": [
            "Dog\n"
          ],
          "name": "stdout"
        }
      ]
    },
    {
      "cell_type": "code",
      "metadata": {
        "id": "GpamaWErXaiq"
      },
      "source": [
        ""
      ],
      "execution_count": null,
      "outputs": []
    },
    {
      "cell_type": "code",
      "metadata": {
        "id": "ASG-SiEdXair"
      },
      "source": [
        ""
      ],
      "execution_count": null,
      "outputs": []
    }
  ]
}